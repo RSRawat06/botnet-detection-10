{
 "cells": [
  {
   "cell_type": "code",
   "execution_count": 1,
   "metadata": {},
   "outputs": [
    {
     "name": "stderr",
     "output_type": "stream",
     "text": [
      "Using TensorFlow backend.\n"
     ]
    }
   ],
   "source": [
    "import sys\n",
    "import os\n",
    "from glob import iglob\n",
    "import pandas as pd\n",
    "import numpy as np\n",
    "import tensorflow as tf\n",
    "import pickle\n",
    "from sklearn.preprocessing import StandardScaler\n",
    "from sklearn.metrics import confusion_matrix\n",
    "from keras.models import model_from_yaml\n",
    "from keras.models import Model, Sequential\n",
    "from keras.layers import Input, Dense, Activation\n",
    "from keras.callbacks import ModelCheckpoint, TensorBoard\n",
    "from keras.optimizers import Adam\n",
    "from sklearn.model_selection import train_test_split"
   ]
  },
  {
   "cell_type": "code",
   "execution_count": 2,
   "metadata": {},
   "outputs": [],
   "source": [
    "devices = {}"
   ]
  },
  {
   "cell_type": "code",
   "execution_count": 3,
   "metadata": {},
   "outputs": [],
   "source": [
    "def read_file(f, devs, c):\n",
    "    d = pd.read_csv(f)\n",
    "    #print(f)\n",
    "    dev = f[8: f.find('/', 8)]\n",
    "    if dev not in devs:\n",
    "        devs[dev] = {}\n",
    "    if c not in devs[dev]:\n",
    "        devs[dev][c] = 0\n",
    "    devs[dev][c] += d.shape[0]\n",
    "    #print(d.shape)\n",
    "    return d"
   ]
  },
  {
   "cell_type": "code",
   "execution_count": 4,
   "metadata": {},
   "outputs": [
    {
     "name": "stdout",
     "output_type": "stream",
     "text": [
      "Loaded, shape: \n",
      "(2838272, 115)\n",
      "Loading mirai data\n",
      "Loaded, shape: \n",
      "(1029720, 115)\n",
      "Loading benign data\n",
      "Loaded, shape: \n",
      "(58628, 115)\n"
     ]
    }
   ],
   "source": [
    "df_gafgyt = pd.concat((read_file(f, devices, 'gafgyt') for f in iglob('../**/gafgyt_attacks*/*.csv', recursive=True)), ignore_index=True)\n",
    "print('Loaded, shape: ')\n",
    "print(df_gafgyt.shape)\n",
    "df_gafgyt['class'] = 'attack'\n",
    "print('Loading mirai data')\n",
    "df_mirai = pd.concat((read_file(f, devices, 'mirai') for f in iglob('../**/mirai_attacks/*.csv', recursive=True)), ignore_index=True)\n",
    "print('Loaded, shape: ')\n",
    "print(df_mirai.shape)\n",
    "df_mirai['class'] = 'attack'\n",
    "print('Loading benign data')\n",
    "df_benign = pd.concat((read_file(f, devices, 'benign') for f in iglob('../**/benign_traffic.csv', recursive=True)), ignore_index=True)\n",
    "print('Loaded, shape: ')\n",
    "print(df_benign.shape)\n",
    "df_benign['class'] = 'benign'\n",
    "df = df_benign.append(df_gafgyt.sample(frac=1, random_state=17)).append(df_mirai.sample(frac=1, random_state=17))"
   ]
  },
  {
   "cell_type": "code",
   "execution_count": 6,
   "metadata": {},
   "outputs": [
    {
     "data": {
      "text/plain": [
       "{'ining\\\\gafgyt_attacks_02WHT_SCam\\\\combo.cs': {'gafgyt': 54283},\n",
       " 'ining\\\\gafgyt_attacks_02WHT_SCam\\\\junk.cs': {'gafgyt': 28579},\n",
       " 'ining\\\\gafgyt_attacks_02WHT_SCam\\\\scan.cs': {'gafgyt': 27825},\n",
       " 'ining\\\\gafgyt_attacks_02WHT_SCam\\\\tcp.cs': {'gafgyt': 88816},\n",
       " 'ining\\\\gafgyt_attacks_02WHT_SCam\\\\udp.cs': {'gafgyt': 103720},\n",
       " 'ining\\\\gafgyt_attacks_03WHT_seCam\\\\combo.cs': {'gafgyt': 59398},\n",
       " 'ining\\\\gafgyt_attacks_03WHT_seCam\\\\junk.cs': {'gafgyt': 27413},\n",
       " 'ining\\\\gafgyt_attacks_03WHT_seCam\\\\scan.cs': {'gafgyt': 28572},\n",
       " 'ining\\\\gafgyt_attacks_03WHT_seCam\\\\tcp.cs': {'gafgyt': 98075},\n",
       " 'ining\\\\gafgyt_attacks_03WHT_seCam\\\\udp.cs': {'gafgyt': 102980},\n",
       " 'ining\\\\gafgyt_attacks_737_SeCam\\\\combo.cs': {'gafgyt': 61380},\n",
       " 'ining\\\\gafgyt_attacks_737_SeCam\\\\junk.cs': {'gafgyt': 30898},\n",
       " 'ining\\\\gafgyt_attacks_737_SeCam\\\\scan.cs': {'gafgyt': 29297},\n",
       " 'ining\\\\gafgyt_attacks_737_SeCam\\\\tcp.cs': {'gafgyt': 104510},\n",
       " 'ining\\\\gafgyt_attacks_737_SeCam\\\\udp.cs': {'gafgyt': 104011},\n",
       " 'ining\\\\gafgyt_attacks_838_seCam\\\\combo.cs': {'gafgyt': 57530},\n",
       " 'ining\\\\gafgyt_attacks_838_seCam\\\\junk.cs': {'gafgyt': 29068},\n",
       " 'ining\\\\gafgyt_attacks_838_seCam\\\\scan.cs': {'gafgyt': 28397},\n",
       " 'ining\\\\gafgyt_attacks_838_seCam\\\\tcp.cs': {'gafgyt': 89387},\n",
       " 'ining\\\\gafgyt_attacks_838_seCam\\\\udp.cs': {'gafgyt': 104658},\n",
       " 'ining\\\\gafgyt_attacks_Danmini_DB\\\\combo.cs': {'gafgyt': 59718},\n",
       " 'ining\\\\gafgyt_attacks_Danmini_DB\\\\junk.cs': {'gafgyt': 29068},\n",
       " 'ining\\\\gafgyt_attacks_Danmini_DB\\\\scan.cs': {'gafgyt': 29849},\n",
       " 'ining\\\\gafgyt_attacks_Danmini_DB\\\\tcp.cs': {'gafgyt': 92141},\n",
       " 'ining\\\\gafgyt_attacks_Danmini_DB\\\\udp.cs': {'gafgyt': 105874},\n",
       " 'ining\\\\gafgyt_attacks_Ecobee_thermo\\\\combo.cs': {'gafgyt': 53012},\n",
       " 'ining\\\\gafgyt_attacks_Ecobee_thermo\\\\junk.cs': {'gafgyt': 30312},\n",
       " 'ining\\\\gafgyt_attacks_Ecobee_thermo\\\\scan.cs': {'gafgyt': 27494},\n",
       " 'ining\\\\gafgyt_attacks_Ecobee_thermo\\\\tcp.cs': {'gafgyt': 95021},\n",
       " 'ining\\\\gafgyt_attacks_Ecobee_thermo\\\\udp.cs': {'gafgyt': 104791},\n",
       " 'ining\\\\gafgyt_attacks_Ennio_DB\\\\combo.cs': {'gafgyt': 53014},\n",
       " 'ining\\\\gafgyt_attacks_Ennio_DB\\\\junk.cs': {'gafgyt': 29797},\n",
       " 'ining\\\\gafgyt_attacks_Ennio_DB\\\\scan.cs': {'gafgyt': 28120},\n",
       " 'ining\\\\gafgyt_attacks_Ennio_DB\\\\tcp.cs': {'gafgyt': 101536},\n",
       " 'ining\\\\gafgyt_attacks_Ennio_DB\\\\udp.cs': {'gafgyt': 103933},\n",
       " 'ining\\\\gafgyt_attacks_Philips_BMonitor\\\\combo.cs': {'gafgyt': 58152},\n",
       " 'ining\\\\gafgyt_attacks_Philips_BMonitor\\\\junk.cs': {'gafgyt': 28349},\n",
       " 'ining\\\\gafgyt_attacks_Philips_BMonitor\\\\scan.cs': {'gafgyt': 27859},\n",
       " 'ining\\\\gafgyt_attacks_Philips_BMonitor\\\\tcp.cs': {'gafgyt': 92581},\n",
       " 'ining\\\\gafgyt_attacks_Philips_BMonitor\\\\udp.cs': {'gafgyt': 105782},\n",
       " 'ining\\\\gafgyt_attacks_Sam_webCam\\\\combo.cs': {'gafgyt': 58669},\n",
       " 'ining\\\\gafgyt_attacks_Sam_webCam\\\\junk.cs': {'gafgyt': 28305},\n",
       " 'ining\\\\gafgyt_attacks_Sam_webCam\\\\scan.cs': {'gafgyt': 27698},\n",
       " 'ining\\\\gafgyt_attacks_Sam_webCam\\\\tcp.cs': {'gafgyt': 97783},\n",
       " 'ining\\\\gafgyt_attacks_Sam_webCam\\\\udp.cs': {'gafgyt': 110617},\n",
       " 'op\\\\Jcd\\\\mirai\\\\mirai_attacks\\\\ack.cs': {'mirai': 107187},\n",
       " 'op\\\\Jcd\\\\mirai\\\\mirai_attacks\\\\scan.cs': {'mirai': 43674},\n",
       " 'op\\\\Jcd\\\\mirai\\\\mirai_attacks\\\\syn.cs': {'mirai': 122479},\n",
       " 'op\\\\Jcd\\\\mirai\\\\mirai_attacks\\\\udp.cs': {'mirai': 157084},\n",
       " 'op\\\\Jcd\\\\mirai\\\\mirai_attacks\\\\udpplain.cs': {'mirai': 84436},\n",
       " 'oads\\\\mirai\\\\mirai_attacks\\\\ack.cs': {'mirai': 107187},\n",
       " 'oads\\\\mirai\\\\mirai_attacks\\\\scan.cs': {'mirai': 43674},\n",
       " 'oads\\\\mirai\\\\mirai_attacks\\\\syn.cs': {'mirai': 122479},\n",
       " 'oads\\\\mirai\\\\mirai_attacks\\\\udp.cs': {'mirai': 157084},\n",
       " 'oads\\\\mirai\\\\mirai_attacks\\\\udpplain.cs': {'mirai': 84436},\n",
       " 'ining\\\\benign_traffic.cs': {'benign': 39100},\n",
       " 'oads\\\\benign_traffic.cs': {'benign': 19528}}"
      ]
     },
     "execution_count": 6,
     "metadata": {},
     "output_type": "execute_result"
    }
   ],
   "source": [
    "devices"
   ]
  },
  {
   "cell_type": "code",
   "execution_count": 7,
   "metadata": {},
   "outputs": [],
   "source": [
    "\n",
    "classes = ['benign', 'attack']"
   ]
  },
  {
   "cell_type": "code",
   "execution_count": 8,
   "metadata": {},
   "outputs": [
    {
     "name": "stdout",
     "output_type": "stream",
     "text": [
      "MI_dir_L5_weight scored 0.012721747765951162\n",
      "MI_dir_L5_mean scored 3.6267553990405083e-06\n",
      "MI_dir_L5_variance scored 0.0022387140771065453\n",
      "MI_dir_L3_weight scored 0.012863706265386892\n",
      "MI_dir_L3_mean scored 5.784736053644087e-06\n",
      "MI_dir_L3_variance scored 0.002576714954217538\n",
      "MI_dir_L1_weight scored 0.012841131473530968\n",
      "MI_dir_L1_mean scored 1.5536454741999974e-06\n",
      "MI_dir_L1_variance scored 0.0025442149585559073\n",
      "MI_dir_L0.1_weight scored 0.012624133902831517\n",
      "MI_dir_L0.1_mean scored 4.707084734088189e-05\n",
      "MI_dir_L0.1_variance scored 0.0005503651345051451\n",
      "MI_dir_L0.01_weight scored 0.009173645250282548\n",
      "MI_dir_L0.01_mean scored 4.241941816651436e-06\n",
      "MI_dir_L0.01_variance scored 0.000153057210632806\n",
      "H_L5_weight scored 0.012721747765951162\n",
      "H_L5_mean scored 3.6267553990405083e-06\n",
      "H_L5_variance scored 0.0022387140771065453\n",
      "H_L3_weight scored 0.012863706265386892\n",
      "H_L3_mean scored 5.784736053644087e-06\n",
      "H_L3_variance scored 0.002576714954217538\n",
      "H_L1_weight scored 0.012841131473226792\n",
      "H_L1_mean scored 1.5536468893616005e-06\n",
      "H_L1_variance scored 0.0025442148628088183\n",
      "H_L0.1_weight scored 0.012624133481611866\n",
      "H_L0.1_mean scored 4.6994742006415245e-05\n",
      "H_L0.1_variance scored 0.0005500313164771183\n",
      "H_L0.01_weight scored 0.009173644138635166\n",
      "H_L0.01_mean scored 4.110139681923708e-06\n",
      "H_L0.01_variance scored 0.0001526769686609647\n",
      "HH_L5_weight scored 0.007894856201835707\n",
      "HH_L5_mean scored 3.280465179116692e-08\n",
      "HH_L5_std scored 0.01048062028428061\n",
      "HH_L5_magnitude scored 0.0009314481084897852\n",
      "HH_L5_radius scored 0.0021586414745666193\n",
      "HH_L5_covariance scored 6.27116989315029e-05\n",
      "HH_L5_pcc scored 1.61839783648899e-08\n",
      "HH_L3_weight scored 0.007993763648686562\n",
      "HH_L3_mean scored 3.6199810428832487e-07\n",
      "HH_L3_std scored 0.012118622755192423\n",
      "HH_L3_magnitude scored 0.0008912493235715428\n",
      "HH_L3_radius scored 0.0030958166244611134\n",
      "HH_L3_covariance scored 2.3374487786828385e-05\n",
      "HH_L3_pcc scored 2.6460432734472507e-05\n",
      "HH_L1_weight scored 0.008073460295343794\n",
      "HH_L1_mean scored 1.4698291532480973e-06\n",
      "HH_L1_std scored 0.01407736615306436\n",
      "HH_L1_magnitude scored 0.0008403835834093837\n",
      "HH_L1_radius scored 0.004176166688610691\n",
      "HH_L1_covariance scored 0.00011216068824449939\n",
      "HH_L1_pcc scored 0.0002983570975892737\n",
      "HH_L0.1_weight scored 0.008186647937344927\n",
      "HH_L0.1_mean scored 6.228220746417599e-07\n",
      "HH_L0.1_std scored 0.036466232846590556\n",
      "HH_L0.1_magnitude scored 0.0008570936977301576\n",
      "HH_L0.1_radius scored 0.00261399779687881\n",
      "HH_L0.1_covariance scored 8.835112640792801e-07\n",
      "HH_L0.1_pcc scored 3.341957007197707e-05\n",
      "HH_L0.01_weight scored 0.006646819208515789\n",
      "HH_L0.01_mean scored 7.607706631040963e-07\n",
      "HH_L0.01_std scored 0.08408110147744634\n",
      "HH_L0.01_magnitude scored 0.0009408727076955062\n",
      "HH_L0.01_radius scored 0.0023036099861023203\n",
      "HH_L0.01_covariance scored 0.00029520960570809577\n",
      "HH_L0.01_pcc scored 0.015011270061476862\n",
      "HH_jit_L5_weight scored 0.007894856201835712\n",
      "HH_jit_L5_mean scored 0.019847645633758074\n",
      "HH_jit_L5_variance scored 0.00028317542920508644\n",
      "HH_jit_L3_weight scored 0.007993763648686562\n",
      "HH_jit_L3_mean scored 0.019848051439293912\n",
      "HH_jit_L3_variance scored 0.0002681864033975578\n",
      "HH_jit_L1_weight scored 0.008073460295343806\n",
      "HH_jit_L1_mean scored 0.020174772676528813\n",
      "HH_jit_L1_variance scored 0.000164228020777522\n",
      "HH_jit_L0.1_weight scored 0.00818664793734493\n",
      "HH_jit_L0.1_mean scored 0.02175891287495958\n",
      "HH_jit_L0.1_variance scored 0.0005080644671351754\n",
      "HH_jit_L0.01_weight scored 0.006646819208515745\n",
      "HH_jit_L0.01_mean scored 0.021986309784961806\n",
      "HH_jit_L0.01_variance scored 0.00039233086898996476\n",
      "HpHp_L5_weight scored 0.00036705962079693614\n",
      "HpHp_L5_mean scored 3.242268957342995e-07\n",
      "HpHp_L5_std scored 0.008860475632697472\n",
      "HpHp_L5_magnitude scored 0.0008274521008926862\n",
      "HpHp_L5_radius scored 0.010413191401311727\n",
      "HpHp_L5_covariance scored 0.00014485106398369468\n",
      "HpHp_L5_pcc scored 6.56122918681516e-06\n",
      "HpHp_L3_weight scored 0.00038943200856357194\n",
      "HpHp_L3_mean scored 2.5479282721723436e-07\n",
      "HpHp_L3_std scored 0.009628533351689044\n",
      "HpHp_L3_magnitude scored 0.0008284052926681603\n",
      "HpHp_L3_radius scored 0.011333562707455757\n",
      "HpHp_L3_covariance scored 0.00013744891417224499\n",
      "HpHp_L3_pcc scored 2.5307503104185015e-05\n",
      "HpHp_L1_weight scored 0.00041680362853378534\n",
      "HpHp_L1_mean scored 1.0256214979955586e-07\n",
      "HpHp_L1_std scored 0.014839158161944069\n",
      "HpHp_L1_magnitude scored 0.0008254620018969461\n",
      "HpHp_L1_radius scored 0.012257229725083642\n",
      "HpHp_L1_covariance scored 0.00028693722918549856\n",
      "HpHp_L1_pcc scored 0.0013945981783290303\n",
      "HpHp_L0.1_weight scored 0.0004411656245987521\n",
      "HpHp_L0.1_mean scored 3.026402392675487e-08\n",
      "HpHp_L0.1_std scored 0.01582254331200187\n",
      "HpHp_L0.1_magnitude scored 0.0008252195312184617\n",
      "HpHp_L0.1_radius scored 0.002590802453677669\n",
      "HpHp_L0.1_covariance scored 2.9011464557336573e-05\n",
      "HpHp_L0.1_pcc scored 0.004929645942160698\n",
      "HpHp_L0.01_weight scored 0.00038108293622973955\n",
      "HpHp_L0.01_mean scored 6.087207865191589e-09\n",
      "HpHp_L0.01_std scored 0.047529754709429085\n",
      "HpHp_L0.01_magnitude scored 0.0008071753622024384\n",
      "HpHp_L0.01_radius scored 0.0020948288166265424\n",
      "HpHp_L0.01_covariance scored 9.903698128966967e-05\n",
      "HpHp_L0.01_pcc scored 0.08933636893587561\n"
     ]
    }
   ],
   "source": [
    "scored = {}\n",
    "indices = {}\n",
    "shps = {}\n",
    "for cl in classes:\n",
    "    indices[cl] = df['class'] == cl\n",
    "    shps[cl] =  df[indices[cl]].shape[0]\n",
    "        \n",
    "for col in df.columns:\n",
    "    if col == 'class':\n",
    "        continue\n",
    "    num = 0\n",
    "    den = 0\n",
    "    m = df[col].mean()\n",
    "    \n",
    "    for cl in classes:\n",
    "        num += (shps[cl] / df.shape[0]) * (m - df[indices[cl]][col].mean())**2\n",
    "        den += (shps[cl] / df.shape[0]) * df[indices[cl]][col].var()\n",
    "    scored[col] = num / den\n",
    "    print(col + ' scored ' + str(scored[col]))"
   ]
  },
  {
   "cell_type": "code",
   "execution_count": 9,
   "metadata": {},
   "outputs": [],
   "source": [
    "scored_list = [{'feature': f, 'score': s} for f, s in scored.items()]"
   ]
  },
  {
   "cell_type": "code",
   "execution_count": 10,
   "metadata": {},
   "outputs": [],
   "source": [
    "scored_list.sort(key=lambda x: x['score'], reverse=True)"
   ]
  },
  {
   "cell_type": "code",
   "execution_count": 11,
   "metadata": {},
   "outputs": [
    {
     "data": {
      "text/plain": [
       "[{'feature': 'HpHp_L0.01_pcc', 'score': 0.08933636893587561},\n",
       " {'feature': 'HH_L0.01_std', 'score': 0.08408110147744634},\n",
       " {'feature': 'HpHp_L0.01_std', 'score': 0.047529754709429085},\n",
       " {'feature': 'HH_L0.1_std', 'score': 0.036466232846590556},\n",
       " {'feature': 'HH_jit_L0.01_mean', 'score': 0.021986309784961806},\n",
       " {'feature': 'HH_jit_L0.1_mean', 'score': 0.02175891287495958},\n",
       " {'feature': 'HH_jit_L1_mean', 'score': 0.020174772676528813},\n",
       " {'feature': 'HH_jit_L3_mean', 'score': 0.019848051439293912},\n",
       " {'feature': 'HH_jit_L5_mean', 'score': 0.019847645633758074},\n",
       " {'feature': 'HpHp_L0.1_std', 'score': 0.01582254331200187},\n",
       " {'feature': 'HH_L0.01_pcc', 'score': 0.015011270061476862},\n",
       " {'feature': 'HpHp_L1_std', 'score': 0.014839158161944069},\n",
       " {'feature': 'HH_L1_std', 'score': 0.01407736615306436},\n",
       " {'feature': 'MI_dir_L3_weight', 'score': 0.012863706265386892},\n",
       " {'feature': 'H_L3_weight', 'score': 0.012863706265386892}]"
      ]
     },
     "execution_count": 11,
     "metadata": {},
     "output_type": "execute_result"
    }
   ],
   "source": [
    "scored_list[:15]"
   ]
  },
  {
   "cell_type": "code",
   "execution_count": null,
   "metadata": {},
   "outputs": [],
   "source": []
  }
 ],
 "metadata": {
  "kernelspec": {
   "display_name": "Python 3",
   "language": "python",
   "name": "python3"
  },
  "language_info": {
   "codemirror_mode": {
    "name": "ipython",
    "version": 3
   },
   "file_extension": ".py",
   "mimetype": "text/x-python",
   "name": "python",
   "nbconvert_exporter": "python",
   "pygments_lexer": "ipython3",
   "version": "3.7.1"
  }
 },
 "nbformat": 4,
 "nbformat_minor": 2
}

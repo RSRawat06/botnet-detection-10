{
 "cells": [
  {
   "cell_type": "code",
   "execution_count": 1,
   "metadata": {},
   "outputs": [
    {
     "name": "stderr",
     "output_type": "stream",
     "text": [
      "Using TensorFlow backend.\n"
     ]
    }
   ],
   "source": [
    "import pandas as pd\n",
    "import numpy as np\n",
    "import matplotlib.pyplot as plt\n",
    "from scipy import stats\n",
    "import tensorflow as tf\n",
    "import pickle\n",
    "from sklearn.metrics import confusion_matrix, precision_recall_curve\n",
    "from sklearn.metrics import recall_score, classification_report, auc, roc_curve\n",
    "from sklearn.metrics import precision_recall_fscore_support, f1_score\n",
    "from sklearn.preprocessing import MinMaxScaler\n",
    "from sklearn.preprocessing import StandardScaler\n",
    "from sklearn.preprocessing import scale\n",
    "from keras.models import Model, load_model, Sequential\n",
    "from keras.layers import Input, Dense\n",
    "from keras.callbacks import ModelCheckpoint, TensorBoard"
   ]
  },
  {
   "cell_type": "code",
   "execution_count": 2,
   "metadata": {},
   "outputs": [
    {
     "data": {
      "text/plain": [
       "(39100, 115)"
      ]
     },
     "execution_count": 2,
     "metadata": {},
     "output_type": "execute_result"
    }
   ],
   "source": [
    "df_bening = pd.read_csv('benign_traffic.csv')\n",
    "df_bening.shape"
   ]
  },
  {
   "cell_type": "code",
   "execution_count": 3,
   "metadata": {},
   "outputs": [],
   "source": [
    "scaler = MinMaxScaler()\n",
    "df_bening = scaler.fit_transform(df_bening)"
   ]
  },
  {
   "cell_type": "code",
   "execution_count": 4,
   "metadata": {},
   "outputs": [
    {
     "name": "stdout",
     "output_type": "stream",
     "text": [
      "(13033, 115)\n",
      "(13033, 115)\n",
      "(13034, 115)\n"
     ]
    }
   ],
   "source": [
    "x_train, x_opt, x_test = np.split(df_bening, [int((1/3)*len(df_bening)), int((2/3)*len(df_bening))])\n",
    "print(x_train.shape)\n",
    "print(x_opt.shape)()\n",
    "print(x_test.shape)"
   ]
  },
  {
   "cell_type": "code",
   "execution_count": 5,
   "metadata": {},
   "outputs": [
    {
     "name": "stdout",
     "output_type": "stream",
     "text": [
      "WARNING:tensorflow:From C:\\Users\\STUDENT\\Anaconda3\\lib\\site-packages\\tensorflow\\python\\framework\\op_def_library.py:263: colocate_with (from tensorflow.python.framework.ops) is deprecated and will be removed in a future version.\n",
      "Instructions for updating:\n",
      "Colocations handled automatically by placer.\n"
     ]
    }
   ],
   "source": [
    "nb_epoch = 20\n",
    "input_dim = x_train.shape[1]\n",
    "learning_rate = 0.012\n",
    "\n",
    "autoencoder = Sequential()\n",
    "autoencoder.add(Dense(int(0.75 * input_dim), activation=\"tanh\", input_dim=input_dim))\n",
    "autoencoder.add(Dense(int(0.5 * input_dim), activation=\"tanh\"))\n",
    "autoencoder.add(Dense(int(0.33 * input_dim), activation=\"tanh\"))\n",
    "autoencoder.add(Dense(int(0.25 * input_dim), activation=\"tanh\"))\n",
    "autoencoder.add(Dense(int(0.33 * input_dim), activation=\"tanh\"))\n",
    "autoencoder.add(Dense(int(0.5 * input_dim), activation=\"tanh\"))\n",
    "autoencoder.add(Dense(int(0.75 * input_dim), activation=\"tanh\"))\n",
    "autoencoder.add(Dense(input_dim))"
   ]
  },
  {
   "cell_type": "code",
   "execution_count": 6,
   "metadata": {},
   "outputs": [
    {
     "name": "stdout",
     "output_type": "stream",
     "text": [
      "WARNING:tensorflow:From C:\\Users\\STUDENT\\Anaconda3\\lib\\site-packages\\tensorflow\\python\\ops\\math_ops.py:3066: to_int32 (from tensorflow.python.ops.math_ops) is deprecated and will be removed in a future version.\n",
      "Instructions for updating:\n",
      "Use tf.cast instead.\n",
      "Train on 13033 samples, validate on 13033 samples\n",
      "Epoch 1/20\n",
      "13033/13033 [==============================] - 1s 49us/step - loss: 0.0840 - val_loss: 0.0398\n",
      "Epoch 2/20\n",
      "13033/13033 [==============================] - 1s 43us/step - loss: 0.0398 - val_loss: 0.0181\n",
      "Epoch 3/20\n",
      "13033/13033 [==============================] - 1s 42us/step - loss: 0.0230 - val_loss: 0.0120\n",
      "Epoch 4/20\n",
      "13033/13033 [==============================] - 1s 43us/step - loss: 0.0182 - val_loss: 0.0105\n",
      "Epoch 5/20\n",
      "13033/13033 [==============================] - 1s 38us/step - loss: 0.0167 - val_loss: 0.0100\n",
      "Epoch 6/20\n",
      "13033/13033 [==============================] - 1s 43us/step - loss: 0.0161 - val_loss: 0.0098\n",
      "Epoch 7/20\n",
      "13033/13033 [==============================] - 1s 43us/step - loss: 0.0156 - val_loss: 0.0096\n",
      "Epoch 8/20\n",
      "13033/13033 [==============================] - 1s 43us/step - loss: 0.0151 - val_loss: 0.0094\n",
      "Epoch 9/20\n",
      "13033/13033 [==============================] - 1s 44us/step - loss: 0.0146 - val_loss: 0.0092\n",
      "Epoch 10/20\n",
      "13033/13033 [==============================] - 1s 43us/step - loss: 0.0141 - val_loss: 0.0090\n",
      "Epoch 11/20\n",
      "13033/13033 [==============================] - 1s 44us/step - loss: 0.0136 - val_loss: 0.0088\n",
      "Epoch 12/20\n",
      "13033/13033 [==============================] - 1s 42us/step - loss: 0.0131 - val_loss: 0.0086\n",
      "Epoch 13/20\n",
      "13033/13033 [==============================] - 1s 40us/step - loss: 0.0126 - val_loss: 0.0085\n",
      "Epoch 14/20\n",
      "13033/13033 [==============================] - 1s 43us/step - loss: 0.0121 - val_loss: 0.0083\n",
      "Epoch 15/20\n",
      "13033/13033 [==============================] - 1s 42us/step - loss: 0.0117 - val_loss: 0.0081\n",
      "Epoch 16/20\n",
      "13033/13033 [==============================] - 1s 42us/step - loss: 0.0112 - val_loss: 0.0079\n",
      "Epoch 17/20\n",
      "13033/13033 [==============================] - 1s 43us/step - loss: 0.0108 - val_loss: 0.0078\n",
      "Epoch 18/20\n",
      "13033/13033 [==============================] - 1s 42us/step - loss: 0.0103 - val_loss: 0.0076\n",
      "Epoch 19/20\n",
      "13033/13033 [==============================] - 1s 43us/step - loss: 0.0100 - val_loss: 0.0075\n",
      "Epoch 20/20\n",
      "13033/13033 [==============================] - 1s 43us/step - loss: 0.0096 - val_loss: 0.0074\n"
     ]
    }
   ],
   "source": [
    "autoencoder.compile(loss='mean_squared_error',\n",
    "                    optimizer='sgd')\n",
    "\n",
    "cp = ModelCheckpoint(filepath=\"autoencoder_traffic_minmax.h5\",\n",
    "                               save_best_only=True,\n",
    "                               verbose=0)\n",
    "\n",
    "tb = TensorBoard(log_dir='./logs',\n",
    "                histogram_freq=0,\n",
    "                write_graph=True,\n",
    "                write_images=True)\n",
    "\n",
    "history = autoencoder.fit(x_train, x_train,\n",
    "                    epochs=nb_epoch,\n",
    "                    validation_data=(x_opt, x_opt),\n",
    "                    verbose=1,\n",
    "                    callbacks=[cp, tb]).history"
   ]
  },
  {
   "cell_type": "code",
   "execution_count": 7,
   "metadata": {},
   "outputs": [
    {
     "data": {
      "image/png": "[encoded data removed]",
      "text/plain": [
       "<Figure size 432x288 with 1 Axes>"
      ]
     },
     "metadata": {
      "needs_background": "light"
     },
     "output_type": "display_data"
    }
   ],
   "source": [
    "plt.plot(history['loss'], linewidth=2, label='Train')\n",
    "plt.plot(history['val_loss'], linewidth=2, label='Opt')\n",
    "plt.legend(loc='upper right')\n",
    "plt.title('Model loss')\n",
    "plt.ylabel('Loss')\n",
    "plt.xlabel('Epoch')\n",
    "plt.show()"
   ]
  },
  {
   "cell_type": "code",
   "execution_count": 8,
   "metadata": {},
   "outputs": [],
   "source": [
    "x_opt_predictions = autoencoder.predict(x_opt)"
   ]
  },
  {
   "cell_type": "code",
   "execution_count": 9,
   "metadata": {},
   "outputs": [
    {
     "data": {
      "text/plain": [
       "(13033,)"
      ]
     },
     "execution_count": 9,
     "metadata": {},
     "output_type": "execute_result"
    }
   ],
   "source": [
    "mse = np.mean(np.power(x_opt - x_opt_predictions, 2), axis=1)\n",
    "mse.shape"
   ]
  },
  {
   "cell_type": "code",
   "execution_count": 10,
   "metadata": {},
   "outputs": [
    {
     "name": "stdout",
     "output_type": "stream",
     "text": [
      "0.0073638650958035455\n",
      "0.0014934357186168526\n",
      "0.23637811787252175\n",
      "0.01246361474703028\n"
     ]
    }
   ],
   "source": [
    "print(mse.mean())\n",
    "print(mse.min())\n",
    "print(mse.max())\n",
    "print(mse.std())"
   ]
  },
  {
   "cell_type": "code",
   "execution_count": 11,
   "metadata": {},
   "outputs": [],
   "source": [
    "tr = mse.mean() + mse.std()"
   ]
  },
  {
   "cell_type": "code",
   "execution_count": 12,
   "metadata": {},
   "outputs": [],
   "source": [
    "x_test_predictions = autoencoder.predict(x_test)"
   ]
  },
  {
   "cell_type": "code",
   "execution_count": 13,
   "metadata": {},
   "outputs": [
    {
     "data": {
      "text/plain": [
       "(13034,)"
      ]
     },
     "execution_count": 13,
     "metadata": {},
     "output_type": "execute_result"
    }
   ],
   "source": [
    "mse_test = np.mean(np.power(x_test - x_test_predictions, 2), axis=1)\n",
    "mse_test.shape"
   ]
  },
  {
   "cell_type": "code",
   "execution_count": 14,
   "metadata": {},
   "outputs": [
    {
     "name": "stdout",
     "output_type": "stream",
     "text": [
      "310\n",
      "0.0237839496700936\n"
     ]
    }
   ],
   "source": [
    "over_tr = mse_test > tr\n",
    "false_positives = sum(over_tr)\n",
    "print(false_positives)\n",
    "fpr = false_positives / mse_test.shape[0]\n",
    "print(fpr)"
   ]
  },
  {
   "cell_type": "code",
   "execution_count": 15,
   "metadata": {},
   "outputs": [
    {
     "name": "stdout",
     "output_type": "stream",
     "text": [
      "False alarms 0\n"
     ]
    }
   ],
   "source": [
    "false_alarms = 0\n",
    "w = 82\n",
    "for i in range(0, len(over_tr) - w):\n",
    "  fp = sum(over_tr[i:i+w])\n",
    "  if fp/2 > w:\n",
    "    false_alarms = false_alarms + 1\n",
    "    \n",
    "print('False alarms %d' % false_alarms)"
   ]
  },
  {
   "cell_type": "code",
   "execution_count": null,
   "metadata": {},
   "outputs": [],
   "source": []
  }
 ],
 "metadata": {
  "kernelspec": {
   "display_name": "Python 3",
   "language": "python",
   "name": "python3"
  },
  "language_info": {
   "codemirror_mode": {
    "name": "ipython",
    "version": 3
   },
   "file_extension": ".py",
   "mimetype": "text/x-python",
   "name": "python",
   "nbconvert_exporter": "python",
   "pygments_lexer": "ipython3",
   "version": "3.7.1"
  }
 },
 "nbformat": 4,
 "nbformat_minor": 2
}

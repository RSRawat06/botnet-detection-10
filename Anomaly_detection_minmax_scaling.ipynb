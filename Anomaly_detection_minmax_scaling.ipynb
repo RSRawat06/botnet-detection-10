{
 "cells": [
  {
   "cell_type": "code",
   "execution_count": 4,
   "metadata": {},
   "outputs": [],
   "source": [
    "import pandas as pd\n",
    "import numpy as np\n",
    "import matplotlib.pyplot as plt\n",
    "from scipy import stats\n",
    "import tensorflow as tf\n",
    "import pickle\n",
    "from sklearn.metrics import confusion_matrix, precision_recall_curve\n",
    "from sklearn.metrics import recall_score, classification_report, auc, roc_curve\n",
    "from sklearn.metrics import precision_recall_fscore_support, f1_score\n",
    "from sklearn.preprocessing import MinMaxScaler\n",
    "from sklearn.preprocessing import StandardScaler\n",
    "from sklearn.preprocessing import scale\n",
    "from keras.models import Model, load_model, Sequential\n",
    "from keras.layers import Input, Dense\n",
    "from keras.callbacks import ModelCheckpoint, TensorBoard\n",
    "from glob import iglob"
   ]
  },
  {
   "cell_type": "code",
   "execution_count": 8,
   "metadata": {},
   "outputs": [],
   "source": [
    "#df_bening = pd.read_csv('bengin_traffic.csv')\n",
    "df_bening = pd.concat((pd.read_csv(f) for f in iglob('../**/benign_traffic.csv', recursive=True)), ignore_index=True)"
   ]
  },
  {
   "cell_type": "code",
   "execution_count": 9,
   "metadata": {},
   "outputs": [],
   "source": [
    "scaler = MinMaxScaler()\n",
    "df_bening = scaler.fit_transform(df_bening)"
   ]
  },
  {
   "cell_type": "code",
   "execution_count": 10,
   "metadata": {},
   "outputs": [],
   "source": [
    "x_train, x_opt, x_test = np.split(df_bening, [int((1/3)*len(df_bening)), int((2/3)*len(df_bening))])"
   ]
  },
  {
   "cell_type": "code",
   "execution_count": 11,
   "metadata": {},
   "outputs": [
    {
     "name": "stdout",
     "output_type": "stream",
     "text": [
      "WARNING:tensorflow:From C:\\Users\\STUDENT\\Anaconda3\\lib\\site-packages\\tensorflow\\python\\framework\\op_def_library.py:263: colocate_with (from tensorflow.python.framework.ops) is deprecated and will be removed in a future version.\n",
      "Instructions for updating:\n",
      "Colocations handled automatically by placer.\n"
     ]
    }
   ],
   "source": [
    "nb_epoch = 8\n",
    "input_dim = x_train.shape[1]\n",
    "learning_rate = 0.012\n",
    "\n",
    "autoencoder = Sequential()\n",
    "autoencoder.add(Dense(int(0.75 * input_dim), activation=\"tanh\", input_dim=input_dim))\n",
    "autoencoder.add(Dense(int(0.5 * input_dim), activation=\"tanh\"))\n",
    "autoencoder.add(Dense(int(0.33 * input_dim), activation=\"tanh\"))\n",
    "autoencoder.add(Dense(int(0.25 * input_dim), activation=\"tanh\"))\n",
    "autoencoder.add(Dense(int(0.33 * input_dim), activation=\"tanh\"))\n",
    "autoencoder.add(Dense(int(0.5 * input_dim), activation=\"tanh\"))\n",
    "autoencoder.add(Dense(int(0.75 * input_dim), activation=\"tanh\"))\n",
    "autoencoder.add(Dense(input_dim))"
   ]
  },
  {
   "cell_type": "code",
   "execution_count": 12,
   "metadata": {},
   "outputs": [
    {
     "name": "stdout",
     "output_type": "stream",
     "text": [
      "WARNING:tensorflow:From C:\\Users\\STUDENT\\Anaconda3\\lib\\site-packages\\tensorflow\\python\\ops\\math_ops.py:3066: to_int32 (from tensorflow.python.ops.math_ops) is deprecated and will be removed in a future version.\n",
      "Instructions for updating:\n",
      "Use tf.cast instead.\n",
      "Train on 19542 samples, validate on 19543 samples\n",
      "Epoch 1/8\n",
      "19542/19542 [==============================] - 1s 47us/step - loss: 0.0381 - val_loss: 0.0192\n",
      "Epoch 2/8\n",
      "19542/19542 [==============================] - 1s 43us/step - loss: 0.0142 - val_loss: 0.0064\n",
      "Epoch 3/8\n",
      "19542/19542 [==============================] - 1s 43us/step - loss: 0.0062 - val_loss: 0.0030\n",
      "Epoch 4/8\n",
      "19542/19542 [==============================] - 1s 43us/step - loss: 0.0042 - val_loss: 0.0023\n",
      "Epoch 5/8\n",
      "19542/19542 [==============================] - 1s 41us/step - loss: 0.0038 - val_loss: 0.0022\n",
      "Epoch 6/8\n",
      "19542/19542 [==============================] - 1s 40us/step - loss: 0.0037 - val_loss: 0.0021\n",
      "Epoch 7/8\n",
      "19542/19542 [==============================] - 1s 44us/step - loss: 0.0036 - val_loss: 0.0021\n",
      "Epoch 8/8\n",
      "19542/19542 [==============================] - 1s 42us/step - loss: 0.0036 - val_loss: 0.0021\n"
     ]
    }
   ],
   "source": [
    "autoencoder.compile(loss='mean_squared_error',\n",
    "                    optimizer='sgd')\n",
    "\n",
    "cp = ModelCheckpoint(filepath=\"autoencoder_traffic_minmax.h5\",\n",
    "                               save_best_only=True,\n",
    "                               verbose=0)\n",
    "\n",
    "tb = TensorBoard(log_dir='./logs',\n",
    "                histogram_freq=0,\n",
    "                write_graph=True,\n",
    "                write_images=True)\n",
    "\n",
    "history = autoencoder.fit(x_train, x_train,\n",
    "                    epochs=nb_epoch,\n",
    "                    validation_data=(x_opt, x_opt),\n",
    "                    verbose=1,\n",
    "                    callbacks=[cp, tb]).history"
   ]
  },
  {
   "cell_type": "code",
   "execution_count": 13,
   "metadata": {},
   "outputs": [
    {
     "data": {
      "image/png": "[encoded data removed]",
      "text/plain": [
       "<Figure size 432x288 with 1 Axes>"
      ]
     },
     "metadata": {
      "needs_background": "light"
     },
     "output_type": "display_data"
    }
   ],
   "source": [
    "plt.plot(history['loss'], linewidth=2, label='Train')\n",
    "plt.plot(history['val_loss'], linewidth=2, label='Opt')\n",
    "plt.legend(loc='upper right')\n",
    "plt.title('Model loss')\n",
    "plt.ylabel('Loss')\n",
    "plt.xlabel('Epoch')\n",
    "plt.show()"
   ]
  },
  {
   "cell_type": "code",
   "execution_count": 14,
   "metadata": {},
   "outputs": [],
   "source": [
    "x_opt_predictions = autoencoder.predict(x_opt)"
   ]
  },
  {
   "cell_type": "code",
   "execution_count": 15,
   "metadata": {},
   "outputs": [],
   "source": [
    "mse = np.mean(np.power(x_opt - x_opt_predictions, 2), axis=1)"
   ]
  },
  {
   "cell_type": "code",
   "execution_count": 16,
   "metadata": {},
   "outputs": [
    {
     "name": "stdout",
     "output_type": "stream",
     "text": [
      "0.002077147914800348\n",
      "0.0002263629084943761\n",
      "0.08980142072377147\n",
      "0.006804495368027686\n"
     ]
    }
   ],
   "source": [
    "print(mse.mean())\n",
    "print(mse.min())\n",
    "print(mse.max())\n",
    "print(mse.std())"
   ]
  },
  {
   "cell_type": "code",
   "execution_count": 17,
   "metadata": {},
   "outputs": [
    {
     "data": {
      "text/plain": [
       "0.008881643282828033"
      ]
     },
     "execution_count": 17,
     "metadata": {},
     "output_type": "execute_result"
    }
   ],
   "source": [
    "tr = mse.mean() + mse.std()\n",
    "tr"
   ]
  },
  {
   "cell_type": "code",
   "execution_count": 18,
   "metadata": {},
   "outputs": [],
   "source": [
    "x_test_predictions = autoencoder.predict(x_test)"
   ]
  },
  {
   "cell_type": "code",
   "execution_count": 19,
   "metadata": {},
   "outputs": [
    {
     "data": {
      "text/plain": [
       "(19543,)"
      ]
     },
     "execution_count": 19,
     "metadata": {},
     "output_type": "execute_result"
    }
   ],
   "source": [
    "mse_test = np.mean(np.power(x_test - x_test_predictions, 2), axis=1)\n",
    "mse_test.shape"
   ]
  },
  {
   "cell_type": "code",
   "execution_count": 20,
   "metadata": {},
   "outputs": [
    {
     "name": "stdout",
     "output_type": "stream",
     "text": [
      "12723\n",
      "0.6510259427928159\n"
     ]
    }
   ],
   "source": [
    "over_tr = mse_test > tr\n",
    "false_positives = sum(over_tr)\n",
    "print(false_positives)\n",
    "fpr = false_positives / mse_test.shape[0]\n",
    "print(fpr)"
   ]
  },
  {
   "cell_type": "code",
   "execution_count": 21,
   "metadata": {},
   "outputs": [
    {
     "name": "stdout",
     "output_type": "stream",
     "text": [
      "False alarms 0\n"
     ]
    }
   ],
   "source": [
    "false_alarms = 0\n",
    "w = 82\n",
    "for i in range(0, len(over_tr) - w):\n",
    "  fp = sum(over_tr[i:i+w])\n",
    "  if fp/2 > w:\n",
    "    false_alarms = false_alarms + 1\n",
    "    \n",
    "print('False alarms %d' % false_alarms)"
   ]
  },
  {
   "cell_type": "code",
   "execution_count": null,
   "metadata": {},
   "outputs": [],
   "source": []
  }
 ],
 "metadata": {
  "kernelspec": {
   "display_name": "Python 3",
   "language": "python",
   "name": "python3"
  },
  "language_info": {
   "codemirror_mode": {
    "name": "ipython",
    "version": 3
   },
   "file_extension": ".py",
   "mimetype": "text/x-python",
   "name": "python",
   "nbconvert_exporter": "python",
   "pygments_lexer": "ipython3",
   "version": "3.7.1"
  }
 },
 "nbformat": 4,
 "nbformat_minor": 2
}

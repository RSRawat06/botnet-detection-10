{
 "cells": [
  {
   "cell_type": "code",
   "execution_count": 3,
   "metadata": {},
   "outputs": [
    {
     "name": "stderr",
     "output_type": "stream",
     "text": [
      "Using TensorFlow backend.\n"
     ]
    }
   ],
   "source": [
    "import pandas as pd\n",
    "import numpy as np\n",
    "import matplotlib.pyplot as plt\n",
    "from scipy import stats\n",
    "import tensorflow as tf\n",
    "import pickle\n",
    "from sklearn.metrics import confusion_matrix, precision_recall_curve\n",
    "from sklearn.metrics import recall_score, classification_report, auc, roc_curve\n",
    "from sklearn.metrics import precision_recall_fscore_support, f1_score\n",
    "from sklearn.preprocessing import MinMaxScaler\n",
    "from sklearn.preprocessing import StandardScaler\n",
    "from sklearn.preprocessing import scale\n",
    "from keras.models import Model, load_model, Sequential\n",
    "from keras.layers import Input, Dense\n",
    "from keras.callbacks import ModelCheckpoint, TensorBoard"
   ]
  },
  {
   "cell_type": "code",
   "execution_count": 4,
   "metadata": {},
   "outputs": [],
   "source": [
    "df_bening = pd.read_csv('benign_traffic.csv')"
   ]
  },
  {
   "cell_type": "code",
   "execution_count": 5,
   "metadata": {},
   "outputs": [],
   "source": [
    "scaler = StandardScaler()\n",
    "df_bening = scaler.fit_transform(df_bening)"
   ]
  },
  {
   "cell_type": "code",
   "execution_count": 6,
   "metadata": {},
   "outputs": [],
   "source": [
    "x_train, x_opt, x_test = np.split(df_bening, [int((1/3)*len(df_bening)), int((2/3)*len(df_bening))])"
   ]
  },
  {
   "cell_type": "code",
   "execution_count": 7,
   "metadata": {},
   "outputs": [
    {
     "name": "stdout",
     "output_type": "stream",
     "text": [
      "WARNING:tensorflow:From C:\\Users\\STUDENT\\Anaconda3\\lib\\site-packages\\tensorflow\\python\\framework\\op_def_library.py:263: colocate_with (from tensorflow.python.framework.ops) is deprecated and will be removed in a future version.\n",
      "Instructions for updating:\n",
      "Colocations handled automatically by placer.\n"
     ]
    }
   ],
   "source": [
    "nb_epoch = 8\n",
    "input_dim = x_train.shape[1]\n",
    "learning_rate = 0.012\n",
    "\n",
    "autoencoder = Sequential()\n",
    "autoencoder.add(Dense(int(0.75 * input_dim), activation=\"tanh\", input_dim=input_dim))\n",
    "autoencoder.add(Dense(int(0.5 * input_dim), activation=\"tanh\"))\n",
    "autoencoder.add(Dense(int(0.33 * input_dim), activation=\"tanh\"))\n",
    "autoencoder.add(Dense(int(0.25 * input_dim), activation=\"tanh\"))\n",
    "autoencoder.add(Dense(int(0.33 * input_dim), activation=\"tanh\"))\n",
    "autoencoder.add(Dense(int(0.5 * input_dim), activation=\"tanh\"))\n",
    "autoencoder.add(Dense(int(0.75 * input_dim), activation=\"tanh\"))\n",
    "autoencoder.add(Dense(input_dim))"
   ]
  },
  {
   "cell_type": "code",
   "execution_count": 8,
   "metadata": {},
   "outputs": [
    {
     "name": "stdout",
     "output_type": "stream",
     "text": [
      "WARNING:tensorflow:From C:\\Users\\STUDENT\\Anaconda3\\lib\\site-packages\\tensorflow\\python\\ops\\math_ops.py:3066: to_int32 (from tensorflow.python.ops.math_ops) is deprecated and will be removed in a future version.\n",
      "Instructions for updating:\n",
      "Use tf.cast instead.\n",
      "Train on 13033 samples, validate on 13033 samples\n",
      "Epoch 1/8\n",
      "13033/13033 [==============================] - 1s 51us/step - loss: 1.4948 - val_loss: 0.6999\n",
      "Epoch 2/8\n",
      "13033/13033 [==============================] - 1s 43us/step - loss: 1.1817 - val_loss: 0.6512\n",
      "Epoch 3/8\n",
      "13033/13033 [==============================] - 1s 39us/step - loss: 0.9453 - val_loss: 0.6161\n",
      "Epoch 4/8\n",
      "13033/13033 [==============================] - 1s 43us/step - loss: 0.7917 - val_loss: 0.5929\n",
      "Epoch 5/8\n",
      "13033/13033 [==============================] - 1s 43us/step - loss: 0.7003 - val_loss: 0.5748\n",
      "Epoch 6/8\n",
      "13033/13033 [==============================] - 1s 42us/step - loss: 0.6455 - val_loss: 0.5588\n",
      "Epoch 7/8\n",
      "13033/13033 [==============================] - 1s 45us/step - loss: 0.6110 - val_loss: 0.5461\n",
      "Epoch 8/8\n",
      "13033/13033 [==============================] - 1s 40us/step - loss: 0.5875 - val_loss: 0.5345\n"
     ]
    }
   ],
   "source": [
    "autoencoder.compile(loss='mean_squared_error',\n",
    "                    optimizer='sgd')\n",
    "\n",
    "cp = ModelCheckpoint(filepath=\"autoencoder_traffic.h5\",\n",
    "                               save_best_only=True,\n",
    "                               verbose=0)\n",
    "\n",
    "tb = TensorBoard(log_dir='./logs',\n",
    "                histogram_freq=0,\n",
    "                write_graph=True,\n",
    "                write_images=True)\n",
    "\n",
    "history = autoencoder.fit(x_train, x_train,\n",
    "                    epochs=nb_epoch,\n",
    "                    validation_data=(x_opt, x_opt),\n",
    "                    verbose=1,\n",
    "                    callbacks=[cp, tb]).history"
   ]
  },
  {
   "cell_type": "code",
   "execution_count": 9,
   "metadata": {},
   "outputs": [
    {
     "data": {
      "image/png": "[encoded data removed]",
      "text/plain": [
       "<Figure size 432x288 with 1 Axes>"
      ]
     },
     "metadata": {
      "needs_background": "light"
     },
     "output_type": "display_data"
    }
   ],
   "source": [
    "plt.plot(history['loss'], linewidth=2, label='Train')\n",
    "plt.plot(history['val_loss'], linewidth=2, label='Test')\n",
    "plt.legend(loc='upper right')\n",
    "plt.title('Model loss')\n",
    "plt.ylabel('Loss')\n",
    "plt.xlabel('Epoch')\n",
    "plt.show()"
   ]
  },
  {
   "cell_type": "code",
   "execution_count": 10,
   "metadata": {},
   "outputs": [],
   "source": [
    "x_opt_predictions = autoencoder.predict(x_opt)"
   ]
  },
  {
   "cell_type": "code",
   "execution_count": 11,
   "metadata": {},
   "outputs": [],
   "source": [
    "mse = np.mean(np.power(x_opt - x_opt_predictions, 2), axis=1)"
   ]
  },
  {
   "cell_type": "code",
   "execution_count": 12,
   "metadata": {},
   "outputs": [
    {
     "data": {
      "text/plain": [
       "4.641004725519613"
      ]
     },
     "execution_count": 12,
     "metadata": {},
     "output_type": "execute_result"
    }
   ],
   "source": [
    "tr = mse.mean() + mse.std()\n",
    "tr"
   ]
  },
  {
   "cell_type": "code",
   "execution_count": null,
   "metadata": {},
   "outputs": [],
   "source": []
  }
 ],
 "metadata": {
  "kernelspec": {
   "display_name": "Python 3",
   "language": "python",
   "name": "python3"
  },
  "language_info": {
   "codemirror_mode": {
    "name": "ipython",
    "version": 3
   },
   "file_extension": ".py",
   "mimetype": "text/x-python",
   "name": "python",
   "nbconvert_exporter": "python",
   "pygments_lexer": "ipython3",
   "version": "3.7.1"
  }
 },
 "nbformat": 4,
 "nbformat_minor": 2
}
